{
 "cells": [
  {
   "cell_type": "code",
   "execution_count": 1,
   "metadata": {
    "collapsed": true
   },
   "outputs": [],
   "source": [
    "import numpy as np\n",
    "import pandas as pd\n",
    "import pylab as plt"
   ]
  },
  {
   "cell_type": "code",
   "execution_count": 38,
   "outputs": [],
   "source": [
    "width = 0.25\n",
    "x = np.arange(0,5,1)\n",
    "y1 = np.array([5,3,1,2,8])\n",
    "y2 = np.array([6,2,8,4,6])\n",
    "y3 = -y2"
   ],
   "metadata": {
    "collapsed": false
   }
  },
  {
   "cell_type": "code",
   "execution_count": 32,
   "outputs": [
    {
     "data": {
      "text/plain": "<matplotlib.legend.Legend at 0x261a6d8d8a0>"
     },
     "execution_count": 32,
     "metadata": {},
     "output_type": "execute_result"
    },
    {
     "data": {
      "text/plain": "<Figure size 432x288 with 1 Axes>",
      "image/png": "[encoded data removed]"
     },
     "metadata": {
      "needs_background": "light"
     },
     "output_type": "display_data"
    }
   ],
   "source": [
    "plt.rc(\"font\", family='MicroSoft YaHei')\n",
    "data = ['星期1','星期2','星期3','星期4','星期5']\n",
    "plt.bar(x,y1,width=width,label = 'y1')\n",
    "plt.xticks(x,data)\n",
    "plt.xlabel('x轴')\n",
    "plt.ylabel('y轴')\n",
    "plt.title('图1')\n",
    "plt.legend()"
   ],
   "metadata": {
    "collapsed": false
   }
  },
  {
   "cell_type": "code",
   "execution_count": 41,
   "outputs": [
    {
     "data": {
      "text/plain": "<matplotlib.legend.Legend at 0x261aec5e740>"
     },
     "execution_count": 41,
     "metadata": {},
     "output_type": "execute_result"
    },
    {
     "data": {
      "text/plain": "<Figure size 432x288 with 1 Axes>",
      "image/png": "[encoded data removed]"
     },
     "metadata": {
      "needs_background": "light"
     },
     "output_type": "display_data"
    }
   ],
   "source": [
    "x1 = x - width/2\n",
    "x2 = x1+width\n",
    "plt.bar(x1, y1, width=width,label = 'y1')\n",
    "plt.bar(x2, y2, width=width,label = 'y2')\n",
    "plt.xticks(x,data)\n",
    "plt.xlabel('x轴')\n",
    "plt.ylabel('y轴')\n",
    "plt.title('图2')\n",
    "plt.yticks(np.arange(0,12,2))\n",
    "plt.legend()\n"
   ],
   "metadata": {
    "collapsed": false
   }
  },
  {
   "cell_type": "code",
   "execution_count": 51,
   "outputs": [
    {
     "data": {
      "text/plain": "<matplotlib.legend.Legend at 0x261af293370>"
     },
     "execution_count": 51,
     "metadata": {},
     "output_type": "execute_result"
    },
    {
     "data": {
      "text/plain": "<Figure size 432x288 with 1 Axes>",
      "image/png": "[encoded data removed]"
     },
     "metadata": {
      "needs_background": "light"
     },
     "output_type": "display_data"
    }
   ],
   "source": [
    "y3 = y1  +2\n",
    "plt.bar(x, height=y3, width=width,label = 'y1')\n",
    "plt.bar(x, height=y1, width=width,label = 'y3')\n",
    "plt.xticks(x,data)\n",
    "plt.xlabel('x轴')\n",
    "plt.ylabel('y轴')\n",
    "plt.title('图3')\n",
    "plt.legend()"
   ],
   "metadata": {
    "collapsed": false
   }
  },
  {
   "cell_type": "code",
   "execution_count": 48,
   "outputs": [
    {
     "data": {
      "text/plain": "<matplotlib.legend.Legend at 0x261af1efcd0>"
     },
     "execution_count": 48,
     "metadata": {},
     "output_type": "execute_result"
    },
    {
     "data": {
      "text/plain": "<Figure size 432x288 with 1 Axes>",
      "image/png": "[encoded data removed]"
     },
     "metadata": {
      "needs_background": "light"
     },
     "output_type": "display_data"
    }
   ],
   "source": [
    "plt.bar(x, height=y1, width=width,label = 'y1')\n",
    "plt.bar(x, height=y3, width=width,label = 'y2')\n",
    "plt.xticks(x,data)\n",
    "plt.xlabel('x轴')\n",
    "plt.ylabel('y轴')\n",
    "plt.title('图3')\n",
    "# ax = plt.gca()\n",
    "#\n",
    "# # 获取你想要挪动的坐标轴，这里只有顶部、底部、左、右四个方向参数\n",
    "# ax.xaxis.set_ticks_position('bottom')  #  要挪动底部的X轴，所以先目光锁定底部！\n",
    "# ax.spines['bottom'].set_position(('data',0))\n",
    "\n",
    "plt.legend()"
   ],
   "metadata": {
    "collapsed": false
   }
  },
  {
   "cell_type": "code",
   "execution_count": null,
   "outputs": [],
   "source": [],
   "metadata": {
    "collapsed": false
   }
  }
 ],
 "metadata": {
  "kernelspec": {
   "display_name": "Python 3",
   "language": "python",
   "name": "python3"
  },
  "language_info": {
   "codemirror_mode": {
    "name": "ipython",
    "version": 2
   },
   "file_extension": ".py",
   "mimetype": "text/x-python",
   "name": "python",
   "nbconvert_exporter": "python",
   "pygments_lexer": "ipython2",
   "version": "2.7.6"
  }
 },
 "nbformat": 4,
 "nbformat_minor": 0
}
